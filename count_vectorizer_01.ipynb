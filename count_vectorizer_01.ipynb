{
 "cells": [
  {
   "cell_type": "code",
   "execution_count": 1,
   "metadata": {},
   "outputs": [
    {
     "name": "stdout",
     "output_type": "stream",
     "text": [
      "feature names in vocabulary:\n",
      "['and', 'document', 'first', 'is', 'one', 'second', 'star', 'the', 'third', 'this']\n",
      "\n",
      "2-D array of feature vectors:\n",
      "[[0 1 1 1 0 0 0 1 0 1]\n",
      " [0 0 0 0 0 0 4 0 0 0]\n",
      " [0 2 0 1 0 1 0 1 0 1]\n",
      " [1 0 0 1 1 0 0 1 1 1]\n",
      " [0 1 1 1 0 0 0 1 0 1]]\n",
      "\n",
      "\n",
      "vocabulary:\n",
      "{'this': 9, 'is': 3, 'the': 7, 'first': 2, 'document': 1, 'star': 6, 'second': 5, 'and': 0, 'third': 8, 'one': 4}\n",
      "\n",
      "\n",
      "shape:\n",
      "(5, 10)\n",
      "\n",
      "\n",
      "The result of the encoding is a sparse matrix in Compressed Sparse Row (CSR) format:\n",
      "<class 'scipy.sparse.csr.csr_matrix'>\n"
     ]
    }
   ],
   "source": [
    "from sklearn.feature_extraction.text import CountVectorizer\n",
    "\n",
    "corpus = [\n",
    "    'This is the first document.',\n",
    "    'Star star star star',\n",
    "    'This document is the second document.',\n",
    "    'And this is the third one.',\n",
    "    'Is this the first document?',\n",
    "]\n",
    "\n",
    "# create a bag-of-words representation\n",
    "vectorizer = CountVectorizer()\n",
    "\n",
    "# Learn the vocabulary dictionary and create the word count vectors\n",
    "X = vectorizer.fit_transform(corpus)\n",
    "\n",
    "print('feature names in vocabulary:')\n",
    "print(vectorizer.get_feature_names())\n",
    "\n",
    "print('\\n2-D array of feature vectors:')\n",
    "print(X.toarray())\n",
    "\n",
    "print('\\n\\nvocabulary:')\n",
    "print(vectorizer.vocabulary_)\n",
    "\n",
    "print('\\n\\nshape:')\n",
    "print(X.shape)\n",
    "\n",
    "print('\\n\\nThe result of the encoding is a sparse matrix in Compressed Sparse Row (CSR) format:')\n",
    "print(type(X))\n",
    "\n"
   ]
  },
  {
   "cell_type": "code",
   "execution_count": null,
   "metadata": {},
   "outputs": [],
   "source": []
  }
 ],
 "metadata": {
  "kernelspec": {
   "display_name": "Python 3",
   "language": "python",
   "name": "python3"
  },
  "language_info": {
   "codemirror_mode": {
    "name": "ipython",
    "version": 3
   },
   "file_extension": ".py",
   "mimetype": "text/x-python",
   "name": "python",
   "nbconvert_exporter": "python",
   "pygments_lexer": "ipython3",
   "version": "3.7.0"
  }
 },
 "nbformat": 4,
 "nbformat_minor": 2
}
